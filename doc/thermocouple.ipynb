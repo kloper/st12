{
 "cells": [
  {
   "cell_type": "markdown",
   "id": "c41c16db-d81a-4725-a69c-333cac4db5ab",
   "metadata": {},
   "source": [
    "# Thermocouple calculator for ST12"
   ]
  },
  {
   "cell_type": "code",
   "execution_count": 1,
   "id": "3a934749-e101-4f35-b236-7ce0de4087c2",
   "metadata": {},
   "outputs": [
    {
     "name": "stdout",
     "output_type": "stream",
     "text": [
      "Using matplotlib backend: TkAgg\n",
      "Populating the interactive namespace from numpy and matplotlib\n"
     ]
    }
   ],
   "source": [
    "%pylab\n",
    "%matplotlib tk\n",
    "\n",
    "from thermocouples_reference import thermocouples\n",
    "from rdp import rdp\n",
    "import numpy"
   ]
  },
  {
   "cell_type": "code",
   "execution_count": 2,
   "id": "baedd8cf-b32f-4c85-aea4-7b2ea1fc4dbe",
   "metadata": {},
   "outputs": [],
   "source": [
    "t = numpy.arange(0, 500, 0.5)\n",
    "\n",
    "direct = {}\n",
    "reverse = {}\n",
    "#for name in thermocouples.keys():\n",
    "for name in ['C']:\n",
    "    thermo = thermocouples[name]\n",
    "    try:\n",
    "        direct[name] = thermo.emf_mVC(t, Tref=0)\n",
    "        rvrse = []\n",
    "        for mv in numpy.arange(max(0, min(direct[name])), max(direct[name]), 0.005):\n",
    "            rvrse.append((mv, thermo.inverse_CmV(mv, Tref=0)))\n",
    "        reverse[name] = numpy.array(rvrse)\n",
    "    except Exception:\n",
    "        continue"
   ]
  },
  {
   "cell_type": "code",
   "execution_count": 46,
   "id": "2d6ecff1-43aa-4219-9fca-f36aff3eeda6",
   "metadata": {},
   "outputs": [
    {
     "name": "stdout",
     "output_type": "stream",
     "text": [
      "C: tr=0 mvr=-0.38423422770854304 mv0=0.0 mvCJ=0.38423422770854304 u204=-0.04649234155273371 u204_0=0.0\n",
      "C: tr=20 mvr=-0.11166206728111733 mv0=0.2725721604274257 mvCJ=0.38423422770854304 u204=-0.013511110141015196 u204_0=0.03298123141171851\n",
      "C: tr=40 mvr=0.1702167110235871 mv0=0.5544509387321301 mvCJ=0.38423422770854304 u204=0.02059622203385404 u204_0=0.06708856358658775\n",
      "C: tr=60 mvr=0.4609191306885146 mv0=0.8451533583970576 mvCJ=0.38423422770854304 u204=0.055771214813310266 u204_0=0.10226355636604398\n",
      "C: tr=80 mvr=0.7599756619785114 mv0=1.1442098896870545 mvCJ=0.38423422770854304 u204=0.09195705509939989 u204_0=0.1384493966521336\n",
      "C: tr=100 mvr=1.0669300320674375 mv0=1.4511642597759806 mvCJ=0.38423422770854304 u204=0.12909853388015993 u204_0=0.17559087543289367\n",
      "C: tr=120 mvr=1.3813390351652817 mv0=1.7655732628738248 mvCJ=0.38423422770854304 u204=0.1671420232549991 u204_0=0.2136343648077328\n",
      "C: tr=140 mvr=1.7027723426452723 mv0=2.0870065703538154 mvCJ=0.38423422770854304 u204=0.20603545346007796 u204_0=0.2525277950128117\n",
      "C: tr=160 mvr=2.030812313170993 mv0=2.415046540879536 mvCJ=0.38423422770854304 u204=0.2457282898936902 u204_0=0.29222063144642385\n",
      "C: tr=180 mvr=2.3650538028234953 mv0=2.749288030532038 mvCJ=0.38423422770854304 u204=0.28617151014164294 u204_0=0.3326638516943766\n",
      "C: tr=200 mvr=2.7051039752284103 mv0=3.089338202936953 mvCJ=0.38423422770854304 u204=0.3273175810026377 u204_0=0.3738099225553714\n",
      "C: tr=220 mvr=3.050582111683064 mv0=3.434816339391607 mvCJ=0.38423422770854304 u204=0.36912043551365076 u204_0=0.41561277706638444\n",
      "C: tr=240 mvr=3.401119421283589 mv0=3.785353648992132 mvCJ=0.38423422770854304 u204=0.41153544997531427 u204_0=0.45802779152804796\n",
      "C: tr=260 mvr=3.756358851052039 mv0=4.140593078760582 mvCJ=0.38423422770854304 u204=0.45451942097729675 u204_0=0.5010117625300304\n",
      "C: tr=280 mvr=4.115954896063502 mv0=4.500189123772045 mvCJ=0.38423422770854304 u204=0.4980305424236837 u204_0=0.5445228839764173\n"
     ]
    }
   ],
   "source": [
    "for tr in range(0, 300, 20):\n",
    "    thermo = thermocouples['C']\n",
    "    t_cj = 28\n",
    "    mvr = thermo.emf_mVC(tr, Tref=t_cj) \n",
    "    mvCJ = thermo.emf_mVC(t_cj, Tref=0) \n",
    "    mv0 = thermo.emf_mVC(tr, Tref=0)\n",
    "    tcj = thermo.inverse_CmV(mv0+mvCJ, Tref=0)\n",
    "    u204 = mvr * 1e-3 * 121\n",
    "    u204_0 = mv0 * 1e-3 * 121\n",
    "    u204_cj = (mv0+mvCJ) * 1e-3 * 121\n",
    "    d_u204 = (u204_cj - u204) / 3.3 * 4096\n",
    "    print(f'{name}: {tr=} {mvr=} {mv0=} {mvCJ=} {u204=} {u204_0=}')"
   ]
  },
  {
   "cell_type": "code",
   "execution_count": 5,
   "id": "a90ca54c-d818-4a3a-a799-fe1d2d5451a4",
   "metadata": {},
   "outputs": [],
   "source": [
    "plt.ylabel('T')\n",
    "plt.xlabel('mV')\n",
    "for name in reverse.keys():\n",
    "    r = reverse[name]\n",
    "    plt.plot(r[:,0], r[:,1], label=name)\n",
    "\n",
    "plt.legend()\n",
    "plt.show()"
   ]
  },
  {
   "cell_type": "code",
   "execution_count": 14,
   "id": "a3dbf49f-d771-4e36-8512-3ac6bc08290c",
   "metadata": {},
   "outputs": [],
   "source": [
    "plt.ylabel('T')\n",
    "plt.xlabel('mV')\n",
    "r = reverse['C']\n",
    "plt.plot(r[:,0], r[:,1], label='C')\n",
    "\n",
    "plt.legend()\n",
    "plt.show()"
   ]
  },
  {
   "cell_type": "code",
   "execution_count": 18,
   "id": "22b8f9a3-c07f-4922-b7bc-e709b8dfb109",
   "metadata": {},
   "outputs": [],
   "source": [
    "inverse_cmv = numpy.vectorize(thermocouples['C'].inverse_CmV)\n",
    "\n",
    "plt.ylabel('T')\n",
    "plt.xlabel('mV')\n",
    "mv = numpy.arange(0, 8, 0.1)\n",
    "r0 = inverse_cmv(mv, Tref=0)\n",
    "r27 = inverse_cmv(mv, Tref=27)\n",
    "plt.plot(mv, r0, label='C=0')\n",
    "plt.plot(mv, r0, label='C=27')\n",
    "\n",
    "plt.legend()\n",
    "plt.show()"
   ]
  },
  {
   "cell_type": "code",
   "execution_count": 21,
   "id": "beea1c64-d837-41dc-b075-d4c37d01bc73",
   "metadata": {},
   "outputs": [],
   "source": [
    "c = numpy.arange(0, 500, 0.5)\n",
    "direct0 = thermocouples['C'].emf_mVC(c, Tref=0)\n",
    "direct27 = thermocouples['C'].emf_mVC(c, Tref=27)\n",
    "\n",
    "plt.ylabel('mV')\n",
    "plt.xlabel('T')\n",
    "\n",
    "plt.plot(c, direct0, label='C=0')\n",
    "plt.plot(c, direct27, label='C=27')\n",
    "\n",
    "plt.legend()\n",
    "plt.show()"
   ]
  },
  {
   "cell_type": "code",
   "execution_count": 3,
   "id": "16d61fbf-a338-4927-906f-39c40e326a0a",
   "metadata": {
    "tags": []
   },
   "outputs": [],
   "source": [
    "def u204(mV, R216=120e3, R215=1e3, Vdd=3.3):\n",
    "    Vu204 = mV * 1e-3 * (R216+R215) / R215\n",
    "    return int((Vu204 / Vdd) * (1<<12))\n",
    "\n",
    "u204v = numpy.vectorize(u204)"
   ]
  },
  {
   "cell_type": "code",
   "execution_count": 4,
   "id": "da71ade6-c8ba-43cc-9133-5cf277dd6016",
   "metadata": {},
   "outputs": [],
   "source": [
    "tsense_adc2C = numpy.copy(reverse['C'])\n",
    "tsense_adc2C[:,0] = u204v(reverse['C'][:,0])\n"
   ]
  },
  {
   "cell_type": "code",
   "execution_count": 5,
   "id": "43f237ab-5a23-46d5-8787-124d28ed8b5f",
   "metadata": {},
   "outputs": [
    {
     "data": {
      "text/plain": [
       "array([[   0.        ,    0.        ],\n",
       "       [  30.        ,   15.1063702 ],\n",
       "       [  87.        ,   42.13005025],\n",
       "       [ 198.        ,   91.83988513],\n",
       "       [ 343.        ,  152.42194894],\n",
       "       [ 500.        ,  214.25246872],\n",
       "       [ 602.        ,  252.95806583],\n",
       "       [ 801.        ,  325.89215073],\n",
       "       [1003.        ,  397.56330979],\n",
       "       [1298.        ,  499.46148306]])"
      ]
     },
     "execution_count": 5,
     "metadata": {},
     "output_type": "execute_result"
    }
   ],
   "source": [
    "tsense_adc2C_approx = rdp(tsense_adc2C, epsilon=0.5)\n",
    "tsense_adc2C_approx"
   ]
  },
  {
   "cell_type": "code",
   "execution_count": 14,
   "id": "41813f9c-a152-40c3-a85a-263c9006d56c",
   "metadata": {},
   "outputs": [],
   "source": [
    "plt.ylabel('T')\n",
    "plt.xlabel('ADC')\n",
    "plt.plot(tsense_adc2C[:,0], tsense_adc2C[:,1], label='C')\n",
    "plt.plot(tsense_adc2C_approx[:,0], tsense_adc2C_approx[:,1], label='Capprox')\n",
    "plt.legend()\n",
    "plt.show()"
   ]
  },
  {
   "cell_type": "code",
   "execution_count": 34,
   "id": "38905f6d-0cf8-4981-a462-46843637d90a",
   "metadata": {},
   "outputs": [],
   "source": [
    "class Thermistor(object):\n",
    "    def __init__(self, r0=100000, beta=3950, t0=298.15, r_sense=120000):\n",
    "        self.r0 = r0 # Ohm\n",
    "        self.beta = beta\n",
    "        self.t0 = t0 # Kelvin\n",
    "        self.r_sense = r_sense # Ohm\n",
    "\n",
    "        self.r_inf = self.r0 * numpy.e ** -(self.beta / self.t0)\n",
    "\n",
    "    def temp_celsius(self, v_adc):\n",
    "        \"\"\"\n",
    "        Accept ADC value from thermistor connected to ADC_IN0.\n",
    "        Return temperature in Celsius\n",
    "        \"\"\"\n",
    "        return self.beta / numpy.log(\n",
    "            self.r_sense / self.r_inf * (1 / (float(0xfff) / v_adc - 1))\n",
    "        ) - 273.15\n",
    "\n",
    "    def temp_celsius_v(self, v):\n",
    "        \"\"\"\n",
    "        Accept ADC value from thermistor connected to ADC_IN0.\n",
    "        Return temperature in Celsius\n",
    "        \"\"\"\n",
    "        return self.beta / numpy.log(\n",
    "            self.r_sense / self.r_inf * (1 / (3.3/v - 1))\n",
    "        ) - 273.15\n",
    "    \n",
    "    def resistance(self, temp):\n",
    "        \"\"\"\n",
    "        Calculate resistance of a thermistor based on temperature\n",
    "        \"\"\"\n",
    "        return self.r_inf * (numpy.e ** (self.beta/(temp+273.15)))\n",
    "    \n",
    "    def temp_from_resistance(self, r):\n",
    "        return self.beta / numpy.log(r / self.r_inf) - 273.15\n",
    "    "
   ]
  },
  {
   "cell_type": "code",
   "execution_count": 35,
   "id": "2e9e6efe-eb77-4bb6-bfbd-307d141bcbec",
   "metadata": {},
   "outputs": [],
   "source": [
    "thermistor = Thermistor()\n",
    "\n",
    "cj_adc_range = numpy.arange(1, 0xfff, 1)\n",
    "tC = thermistor.temp_celsius(cj_adc_range)"
   ]
  },
  {
   "cell_type": "code",
   "execution_count": 36,
   "id": "c4ae2457-af07-484e-a7c6-3a9304b4be47",
   "metadata": {},
   "outputs": [],
   "source": [
    "cj_adc2C = numpy.transpose(numpy.vstack([cj_adc_range, tC]))"
   ]
  },
  {
   "cell_type": "code",
   "execution_count": 37,
   "id": "ea865317-0d34-42a7-aa88-49fc8a47577b",
   "metadata": {},
   "outputs": [],
   "source": [
    "cj_adc2C_proper_range = cj_adc2C[[x >= 0 and x <= 100 for x in cj_adc2C[:,1]]]"
   ]
  },
  {
   "cell_type": "code",
   "execution_count": 38,
   "id": "2989924a-059b-4fde-8edc-e966682861f8",
   "metadata": {},
   "outputs": [],
   "source": [
    "cj_adc2mV = numpy.copy(cj_adc2C_proper_range)\n",
    "cj_adc2mV[:,1] = thermocouples['C'].emf_mVC(cj_adc2mV[:,1], Tref=0)"
   ]
  },
  {
   "cell_type": "code",
   "execution_count": 39,
   "id": "951787e9-b92e-4cfc-8ec3-d3b48c846c4b",
   "metadata": {},
   "outputs": [
    {
     "data": {
      "text/plain": [
       "array([[ 225.,  217.],\n",
       "       [ 226.,  217.],\n",
       "       [ 227.,  217.],\n",
       "       ...,\n",
       "       [3015.,    0.],\n",
       "       [3016.,    0.],\n",
       "       [3017.,    0.]])"
      ]
     },
     "execution_count": 39,
     "metadata": {},
     "output_type": "execute_result"
    }
   ],
   "source": [
    "cj_adc2tsense_adc = numpy.copy(cj_adc2mV)\n",
    "cj_adc2tsense_adc[:, 1] = u204v(cj_adc2tsense_adc[:, 1])\n",
    "cj_adc2tsense_adc"
   ]
  },
  {
   "cell_type": "code",
   "execution_count": 40,
   "id": "8a89d1ec-5adc-439e-bc31-22f3ab119888",
   "metadata": {},
   "outputs": [
    {
     "data": {
      "text/plain": [
       "array([[ 225.,  217.],\n",
       "       [ 281.,  198.],\n",
       "       [ 337.,  183.],\n",
       "       [ 417.,  166.],\n",
       "       [ 486.,  154.],\n",
       "       [ 576.,  141.],\n",
       "       [ 693.,  127.],\n",
       "       [ 942.,  104.],\n",
       "       [1243.,   83.],\n",
       "       [1602.,   63.],\n",
       "       [2046.,   42.],\n",
       "       [3017.,    0.]])"
      ]
     },
     "execution_count": 40,
     "metadata": {},
     "output_type": "execute_result"
    }
   ],
   "source": [
    "cj_adc2tsense_adc_approx = rdp(cj_adc2tsense_adc, epsilon=1)\n",
    "cj_adc2tsense_adc_approx"
   ]
  },
  {
   "cell_type": "code",
   "execution_count": 4,
   "id": "5acd94cb-3d37-4c61-b29d-21d3a76b15ca",
   "metadata": {},
   "outputs": [],
   "source": [
    "def u402(mV, R406=470e3, R403=20e3, Vdd=3.3):\n",
    "    Vu402 = mV * 1e-3 * R406 / R403\n",
    "    return int((Vu402 / Vdd) * (1<<12))\n",
    "\n",
    "def u402_inverse(adc, R406=470e3, R403=20e3, Vdd=3.3):\n",
    "    Vu402 = adc * Vdd / (1<<12) \n",
    "    return Vu402 * R403 / R406\n",
    "\n",
    "def current2adc(current):\n",
    "    return u402(current * 40e-3)\n",
    "\n",
    "def adc2current(adc):\n",
    "    return u402_inverse(adc) / 40e-3\n",
    "\n",
    "u402v = numpy.vectorize(u402)\n",
    "current2adcv = numpy.vectorize(current2adc)\n",
    "adc2currentv = numpy.vectorize(adc2current)"
   ]
  },
  {
   "cell_type": "code",
   "execution_count": 11,
   "id": "ebcde648-014d-4ec2-823e-c0bfe20b1336",
   "metadata": {},
   "outputs": [],
   "source": [
    "adc_range = numpy.arange(0, 0xfff)\n",
    "adc2current_data = numpy.vstack([adc_range, adc2currentv(adc_range)]).transpose()"
   ]
  },
  {
   "cell_type": "code",
   "execution_count": 12,
   "id": "ac7ea5e2-1c06-4270-a38e-1e5701ee85be",
   "metadata": {},
   "outputs": [
    {
     "data": {
      "text/plain": [
       "array([[0.00000000e+00, 0.00000000e+00],\n",
       "       [1.00000000e+00, 8.57089428e-04],\n",
       "       [2.00000000e+00, 1.71417886e-03],\n",
       "       ...,\n",
       "       [4.09200000e+03, 3.50720994e+00],\n",
       "       [4.09300000e+03, 3.50806703e+00],\n",
       "       [4.09400000e+03, 3.50892412e+00]])"
      ]
     },
     "execution_count": 12,
     "metadata": {},
     "output_type": "execute_result"
    }
   ],
   "source": [
    "adc2current_data"
   ]
  },
  {
   "cell_type": "code",
   "execution_count": 13,
   "id": "b2ba9c94-a27b-4ecb-a36b-2c8a50e46aba",
   "metadata": {},
   "outputs": [
    {
     "data": {
      "text/plain": [
       "[<matplotlib.lines.Line2D at 0x7f33e2a92b50>]"
      ]
     },
     "execution_count": 13,
     "metadata": {},
     "output_type": "execute_result"
    }
   ],
   "source": [
    "plt.plot(adc2current_data[:,0], adc2current_data[:,1])"
   ]
  },
  {
   "cell_type": "code",
   "execution_count": 14,
   "id": "3352cc6a-c7c4-4e3b-8945-7f88e41c8a0e",
   "metadata": {},
   "outputs": [
    {
     "data": {
      "text/plain": [
       "array([[0.00000000e+00, 0.00000000e+00],\n",
       "       [4.09400000e+03, 3.50892412e+00]])"
      ]
     },
     "execution_count": 14,
     "metadata": {},
     "output_type": "execute_result"
    }
   ],
   "source": [
    "adc2current_data_approx = rdp(adc2current_data, epsilon=1)\n",
    "adc2current_data_approx"
   ]
  },
  {
   "cell_type": "code",
   "execution_count": 114,
   "id": "363e00af-dba9-4671-aa7a-4a7cae1c64c0",
   "metadata": {},
   "outputs": [],
   "source": [
    "Isense = numpy.array([(1.144, 0.9648), (1.25, 1.04), (1.40, 1.1520), (1.6, 1.3131), (1.7, 1.3905), (1.8, 1.4664), (1.9, 1.5415)])"
   ]
  },
  {
   "cell_type": "code",
   "execution_count": 132,
   "id": "eae30e39-3807-4ee4-a4fa-39d1315d7a46",
   "metadata": {},
   "outputs": [],
   "source": [
    "def u402_theoretic(current, R406=470e3, R403=20e3, u201_mV_A=40, Vdd=3.3):\n",
    "    Vu402 = current * u201_mV_A * 1e-3 * R406 / R403\n",
    "    return Vu402\n",
    "\n",
    "u402_theoretic_v = numpy.vectorize(u402_theoretic)"
   ]
  },
  {
   "cell_type": "code",
   "execution_count": 130,
   "id": "d446335a-c614-4467-b5c8-9e343eab18e5",
   "metadata": {},
   "outputs": [],
   "source": [
    "plt.ylabel('Current')\n",
    "plt.xlabel('Vout')\n",
    "plt.plot(Isense[:,1], Isense[:,0], label='Actual')\n",
    "plt.legend()\n",
    "plt.show()"
   ]
  },
  {
   "cell_type": "code",
   "execution_count": 133,
   "id": "500d2e8d-93b8-4357-8f58-862f942ca885",
   "metadata": {},
   "outputs": [],
   "source": [
    "plt.ylabel('Vout')\n",
    "plt.xlabel('Current')\n",
    "plt.plot(Isense[:,0], Isense[:,1], label='Actual')\n",
    "plt.plot(Isense[:,0], u402_theoretic(Isense[:,0]), label='Theoretic')\n",
    "plt.legend()\n",
    "plt.show()"
   ]
  },
  {
   "cell_type": "code",
   "execution_count": 134,
   "id": "06d2904a-1e1c-441d-ad5d-210c8b35b894",
   "metadata": {},
   "outputs": [
    {
     "data": {
      "text/plain": [
       "1.1409657320872275"
      ]
     },
     "execution_count": 134,
     "metadata": {},
     "output_type": "execute_result"
    }
   ],
   "source": [
    "1.465 / 1.284"
   ]
  },
  {
   "cell_type": "code",
   "execution_count": 135,
   "id": "c59fabc1-473e-49f9-8c58-fc883569e46e",
   "metadata": {},
   "outputs": [
    {
     "data": {
      "text/plain": [
       "4003.7690000000002"
      ]
     },
     "execution_count": 135,
     "metadata": {},
     "output_type": "execute_result"
    }
   ],
   "source": [
    "3509 * 1.141"
   ]
  },
  {
   "cell_type": "code",
   "execution_count": null,
   "id": "90c1337b-7a10-4c8a-aec1-9d1eee06a57d",
   "metadata": {},
   "outputs": [],
   "source": []
  }
 ],
 "metadata": {
  "kernelspec": {
   "display_name": "Python 3",
   "language": "python",
   "name": "python3"
  },
  "language_info": {
   "codemirror_mode": {
    "name": "ipython",
    "version": 3
   },
   "file_extension": ".py",
   "mimetype": "text/x-python",
   "name": "python",
   "nbconvert_exporter": "python",
   "pygments_lexer": "ipython3",
   "version": "3.9.7"
  }
 },
 "nbformat": 4,
 "nbformat_minor": 5
}
