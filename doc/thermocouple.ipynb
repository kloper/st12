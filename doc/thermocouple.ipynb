{
 "cells": [
  {
   "cell_type": "markdown",
   "id": "c41c16db-d81a-4725-a69c-333cac4db5ab",
   "metadata": {},
   "source": [
    "# Thermocouple calculator for ST12"
   ]
  },
  {
   "cell_type": "code",
   "execution_count": 3,
   "id": "3a934749-e101-4f35-b236-7ce0de4087c2",
   "metadata": {},
   "outputs": [
    {
     "name": "stdout",
     "output_type": "stream",
     "text": [
      "Using matplotlib backend: TkAgg\n",
      "Populating the interactive namespace from numpy and matplotlib\n"
     ]
    }
   ],
   "source": [
    "%pylab\n",
    "%matplotlib tk\n",
    "\n",
    "from thermocouples_reference import thermocouples\n",
    "from rdp import rdp\n",
    "import numpy"
   ]
  },
  {
   "cell_type": "code",
   "execution_count": 4,
   "id": "baedd8cf-b32f-4c85-aea4-7b2ea1fc4dbe",
   "metadata": {},
   "outputs": [],
   "source": [
    "t = numpy.arange(0, 500, 0.5)\n",
    "\n",
    "direct = {}\n",
    "reverse = {}\n",
    "for name in thermocouples.keys():\n",
    "    thermo = thermocouples[name]\n",
    "    try:\n",
    "        direct[name] = thermo.emf_mVC(t)\n",
    "        rvrse = []\n",
    "        for mv in numpy.arange(min(direct[name]), max(direct[name]), 0.005):\n",
    "            rvrse.append((mv, thermo.inverse_CmV(mv, Tref=0)))\n",
    "        reverse[name] = numpy.array(rvrse)\n",
    "    except Exception:\n",
    "        continue"
   ]
  },
  {
   "cell_type": "code",
   "execution_count": 260,
   "id": "fcedf54f-4c8c-44b2-9ec8-83e43010f9e4",
   "metadata": {},
   "outputs": [
    {
     "name": "stdout",
     "output_type": "stream",
     "text": [
      "C: t=123.68200585780514 mv0=1.8242342277085428 mvCJ=0.38423422770854304 mv0-mvCJ=1.4399999999999997 u204=0.17423999999999995\n"
     ]
    }
   ],
   "source": [
    "for name in ['C']:\n",
    "    thermo = thermocouples[name]\n",
    "    t = thermo.inverse_CmV(1.44, Tref=28)\n",
    "    mvCJ = thermo.emf_mVC(28, Tref=0) \n",
    "    mv0 = thermo.emf_mVC(t, Tref=0)\n",
    "    u204 = (mv0-mvCJ) * 1e-3 * 121\n",
    "    print(f'{name}: {t=} {mv0=} {mvCJ=} {mv0-mvCJ=} {u204=}')"
   ]
  },
  {
   "cell_type": "code",
   "execution_count": 280,
   "id": "9bf07c0b-c5c6-4924-8372-e924cb21efdf",
   "metadata": {},
   "outputs": [
    {
     "data": {
      "text/plain": [
       "230.07316943941905"
      ]
     },
     "execution_count": 280,
     "metadata": {},
     "output_type": "execute_result"
    }
   ],
   "source": [
    "thermocouples['C'].inverse_CmV(3.3 * 522 / 0xfff / 121 * 1000 - 0.250, Tref=28)"
   ]
  },
  {
   "cell_type": "code",
   "execution_count": 244,
   "id": "12d39dbd-665a-4d1f-b3c5-80cf27111bb9",
   "metadata": {},
   "outputs": [
    {
     "data": {
      "text/plain": [
       "1.378021978021978"
      ]
     },
     "execution_count": 244,
     "metadata": {},
     "output_type": "execute_result"
    }
   ],
   "source": [
    "1710/0xfff * 3.3"
   ]
  },
  {
   "cell_type": "code",
   "execution_count": 7,
   "id": "860fc56d-d9c8-4673-a3ee-ffdfa37f175a",
   "metadata": {},
   "outputs": [],
   "source": [
    "plt.ylabel('mV')\n",
    "plt.xlabel('T')\n",
    "for name in direct.keys():\n",
    "    plt.plot(t, direct[name], label=name)\n",
    "\n",
    "plt.legend()\n",
    "plt.show()"
   ]
  },
  {
   "cell_type": "code",
   "execution_count": 276,
   "id": "a90ca54c-d818-4a3a-a799-fe1d2d5451a4",
   "metadata": {},
   "outputs": [],
   "source": [
    "plt.ylabel('T')\n",
    "plt.xlabel('mV')\n",
    "for name in reverse.keys():\n",
    "    r = reverse[name]\n",
    "    plt.plot(r[:,0], r[:,1], label=name)\n",
    "\n",
    "plt.legend()\n",
    "plt.show()"
   ]
  },
  {
   "cell_type": "code",
   "execution_count": 6,
   "id": "16d61fbf-a338-4927-906f-39c40e326a0a",
   "metadata": {
    "tags": []
   },
   "outputs": [],
   "source": [
    "def u204(mV, R216=120e3, R215=1e3, Vdd=3.3):\n",
    "    Vu204 = mV * 1e-3 * (R216+R215) / R215\n",
    "    return int((Vu204 / Vdd) * (1<<12))\n",
    "\n",
    "u204v = numpy.vectorize(u204)"
   ]
  },
  {
   "cell_type": "code",
   "execution_count": 7,
   "id": "da71ade6-c8ba-43cc-9133-5cf277dd6016",
   "metadata": {},
   "outputs": [],
   "source": [
    "tsense_adc2C = numpy.copy(reverse['C'])\n",
    "tsense_adc2C[:,0] = u204v(reverse['C'][:,0])\n"
   ]
  },
  {
   "cell_type": "code",
   "execution_count": 8,
   "id": "43f237ab-5a23-46d5-8787-124d28ed8b5f",
   "metadata": {},
   "outputs": [
    {
     "data": {
      "text/plain": [
       "array([[   0.        ,    0.        ],\n",
       "       [  30.        ,   15.1063702 ],\n",
       "       [  87.        ,   42.13005025],\n",
       "       [ 198.        ,   91.83988513],\n",
       "       [ 343.        ,  152.42194894],\n",
       "       [ 500.        ,  214.25246872],\n",
       "       [ 602.        ,  252.95806583],\n",
       "       [ 801.        ,  325.89215073],\n",
       "       [1003.        ,  397.56330979],\n",
       "       [1298.        ,  499.46148306]])"
      ]
     },
     "execution_count": 8,
     "metadata": {},
     "output_type": "execute_result"
    }
   ],
   "source": [
    "tsense_adc2C_approx = rdp(tsense_adc2C, epsilon=0.5)\n",
    "tsense_adc2C_approx"
   ]
  },
  {
   "cell_type": "code",
   "execution_count": 14,
   "id": "41813f9c-a152-40c3-a85a-263c9006d56c",
   "metadata": {},
   "outputs": [],
   "source": [
    "plt.ylabel('T')\n",
    "plt.xlabel('ADC')\n",
    "plt.plot(tsense_adc2C[:,0], tsense_adc2C[:,1], label='C')\n",
    "plt.plot(tsense_adc2C_approx[:,0], tsense_adc2C_approx[:,1], label='Capprox')\n",
    "plt.legend()\n",
    "plt.show()"
   ]
  },
  {
   "cell_type": "code",
   "execution_count": 102,
   "id": "38905f6d-0cf8-4981-a462-46843637d90a",
   "metadata": {},
   "outputs": [],
   "source": [
    "class Thermistor(object):\n",
    "    def __init__(self, r0=100000, beta=3950, t0=298.15, r_sense=120000):\n",
    "        self.r0 = r0 # Ohm\n",
    "        self.beta = beta\n",
    "        self.t0 = t0 # Kelvin\n",
    "        self.r_sense = r_sense # Ohm\n",
    "\n",
    "        self.r_inf = self.r0 * numpy.e ** -(self.beta / self.t0)\n",
    "\n",
    "    def temp_celsius(self, v_adc):\n",
    "        \"\"\"\n",
    "        Accept ADC value from thermistor connected to ADC_IN0.\n",
    "        Return temperature in Celsius\n",
    "        \"\"\"\n",
    "        return self.beta / numpy.log(\n",
    "            self.r_sense / self.r_inf * (1 / (float(0xfff) / v_adc - 1))\n",
    "        ) - 273.15\n",
    "\n",
    "    def temp_celsius_v(self, v):\n",
    "        \"\"\"\n",
    "        Accept ADC value from thermistor connected to ADC_IN0.\n",
    "        Return temperature in Celsius\n",
    "        \"\"\"\n",
    "        return self.beta / numpy.log(\n",
    "            self.r_sense / self.r_inf * (1 / (3.3/v - 1))\n",
    "        ) - 273.15\n",
    "    \n",
    "    def resistance(self, temp):\n",
    "        \"\"\"\n",
    "        Calculate resistance of a thermistor based on temperature\n",
    "        \"\"\"\n",
    "        return self.r_inf * (numpy.e ** (self.beta/(temp+273.15)))\n",
    "    \n",
    "    def temp_from_resistance(self, r):\n",
    "        return self.beta / numpy.log(r / self.r_inf) - 273.15\n",
    "    "
   ]
  },
  {
   "cell_type": "code",
   "execution_count": 103,
   "id": "2e9e6efe-eb77-4bb6-bfbd-307d141bcbec",
   "metadata": {},
   "outputs": [],
   "source": [
    "thermistor = Thermistor()\n",
    "\n",
    "cj_adc_range = numpy.arange(1, 0xfff, 1)\n",
    "tC = thermistor.temp_celsius(cj_adc_range)"
   ]
  },
  {
   "cell_type": "code",
   "execution_count": 104,
   "id": "c4ae2457-af07-484e-a7c6-3a9304b4be47",
   "metadata": {},
   "outputs": [],
   "source": [
    "cj_adc2C = numpy.transpose(numpy.vstack([cj_adc_range, tC]))"
   ]
  },
  {
   "cell_type": "code",
   "execution_count": 105,
   "id": "ea865317-0d34-42a7-aa88-49fc8a47577b",
   "metadata": {},
   "outputs": [],
   "source": [
    "cj_adc2C_proper_range = cj_adc2C[[x >= 0 and x <= 100 for x in cj_adc2C[:,1]]]"
   ]
  },
  {
   "cell_type": "code",
   "execution_count": 106,
   "id": "2989924a-059b-4fde-8edc-e966682861f8",
   "metadata": {},
   "outputs": [],
   "source": [
    "cj_adc2mV = numpy.copy(cj_adc2C_proper_range)\n",
    "cj_adc2mV[:,1] = thermocouples['C'].emf_mVC(cj_adc2mV[:,1])"
   ]
  },
  {
   "cell_type": "code",
   "execution_count": 107,
   "id": "951787e9-b92e-4cfc-8ec3-d3b48c846c4b",
   "metadata": {},
   "outputs": [
    {
     "data": {
      "text/plain": [
       "array([[ 225.,  217.],\n",
       "       [ 226.,  217.],\n",
       "       [ 227.,  217.],\n",
       "       ...,\n",
       "       [3015.,    0.],\n",
       "       [3016.,    0.],\n",
       "       [3017.,    0.]])"
      ]
     },
     "execution_count": 107,
     "metadata": {},
     "output_type": "execute_result"
    }
   ],
   "source": [
    "cj_adc2tsense_adc = numpy.copy(cj_adc2mV)\n",
    "cj_adc2tsense_adc[:, 1] = u204v(cj_adc2tsense_adc[:, 1])\n",
    "cj_adc2tsense_adc"
   ]
  },
  {
   "cell_type": "code",
   "execution_count": 108,
   "id": "8a89d1ec-5adc-439e-bc31-22f3ab119888",
   "metadata": {},
   "outputs": [
    {
     "data": {
      "text/plain": [
       "array([[ 225.,  217.],\n",
       "       [ 281.,  198.],\n",
       "       [ 337.,  183.],\n",
       "       [ 417.,  166.],\n",
       "       [ 486.,  154.],\n",
       "       [ 576.,  141.],\n",
       "       [ 693.,  127.],\n",
       "       [ 942.,  104.],\n",
       "       [1243.,   83.],\n",
       "       [1602.,   63.],\n",
       "       [2046.,   42.],\n",
       "       [3017.,    0.]])"
      ]
     },
     "execution_count": 108,
     "metadata": {},
     "output_type": "execute_result"
    }
   ],
   "source": [
    "cj_adc2tsense_adc_approx = rdp(cj_adc2tsense_adc, epsilon=1)\n",
    "cj_adc2tsense_adc_approx"
   ]
  },
  {
   "cell_type": "code",
   "execution_count": 254,
   "id": "cdc22c79-2382-40a5-9a91-4698bc0ebde6",
   "metadata": {},
   "outputs": [
    {
     "data": {
      "text/plain": [
       "array([1797.        ,   26.43817846])"
      ]
     },
     "execution_count": 254,
     "metadata": {},
     "output_type": "execute_result"
    }
   ],
   "source": [
    "cj_adc2C[1796]"
   ]
  },
  {
   "cell_type": "code",
   "execution_count": 255,
   "id": "1da40705-c5ce-4a30-a607-b6f219a54ec2",
   "metadata": {},
   "outputs": [
    {
     "data": {
      "text/plain": [
       "array([52.        , 25.55847324])"
      ]
     },
     "execution_count": 255,
     "metadata": {},
     "output_type": "execute_result"
    }
   ],
   "source": [
    "tsense_adc2C[70]"
   ]
  },
  {
   "cell_type": "code",
   "execution_count": 248,
   "id": "ef8afb89-0fbd-4df7-a475-0184eb306895",
   "metadata": {},
   "outputs": [
    {
     "data": {
      "text/plain": [
       "array([2076.,   41.])"
      ]
     },
     "execution_count": 248,
     "metadata": {},
     "output_type": "execute_result"
    }
   ],
   "source": [
    "cj_adc2tsense_adc[1851]"
   ]
  },
  {
   "cell_type": "code",
   "execution_count": 262,
   "id": "fd828f8b-ec99-4dd8-b85a-42f1c6f687b1",
   "metadata": {},
   "outputs": [
    {
     "data": {
      "text/plain": [
       "28.6537039955345"
      ]
     },
     "execution_count": 262,
     "metadata": {},
     "output_type": "execute_result"
    }
   ],
   "source": [
    "thermistor.temp_celsius_v(1.37)"
   ]
  },
  {
   "cell_type": "code",
   "execution_count": null,
   "id": "5acd94cb-3d37-4c61-b29d-21d3a76b15ca",
   "metadata": {},
   "outputs": [],
   "source": []
  }
 ],
 "metadata": {
  "kernelspec": {
   "display_name": "Python 3",
   "language": "python",
   "name": "python3"
  },
  "language_info": {
   "codemirror_mode": {
    "name": "ipython",
    "version": 3
   },
   "file_extension": ".py",
   "mimetype": "text/x-python",
   "name": "python",
   "nbconvert_exporter": "python",
   "pygments_lexer": "ipython3",
   "version": "3.9.5"
  }
 },
 "nbformat": 4,
 "nbformat_minor": 5
}
