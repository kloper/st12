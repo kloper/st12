{
 "cells": [
  {
   "cell_type": "code",
   "execution_count": 44,
   "id": "ce162795-548e-445b-8fd0-0130abcb02c5",
   "metadata": {},
   "outputs": [
    {
     "name": "stdout",
     "output_type": "stream",
     "text": [
      "R1=1960.7843137254902\n",
      "R2=1000.0\n",
      "R3=2000.0\n",
      "R4=100000.0\n",
      "Vs=5\n",
      "Vb=4.901960784313725\n",
      "G=1.51\n",
      "Vo(2.4995)=1.274245\n",
      "Vo(2.5689)=1.3790390000000006\n"
     ]
    }
   ],
   "source": [
    "R3 = 2e3\n",
    "R4 = 100e3\n",
    "\n",
    "R1 = (R3*R4)/(R3+R4)\n",
    "R2 = 1e3\n",
    "Vs = 5\n",
    "Vb = R4/(R3+R4)*Vs\n",
    "G = (1+R2/R1)\n",
    "\n",
    "def Vo(Vi):\n",
    "    return G * Vi + (1-G)*Vb\n",
    "\n",
    "print(f'{R1=}')\n",
    "print(f'{R2=}')\n",
    "print(f'{R3=}')\n",
    "print(f'{R4=}')\n",
    "print(f'{Vs=}')\n",
    "print(f'{Vb=}')\n",
    "print(f'{G=}')\n",
    "print(f'{Vo(2.4995)=}')\n",
    "print(f'{Vo(2.5689)=}')\n"
   ]
  },
  {
   "cell_type": "code",
   "execution_count": 39,
   "id": "9c54e402-5690-40f4-88f3-03b0ec8c3d12",
   "metadata": {},
   "outputs": [
    {
     "data": {
      "text/plain": [
       "62.68819393939422"
      ]
     },
     "execution_count": 39,
     "metadata": {},
     "output_type": "execute_result"
    }
   ],
   "source": [
    "0.20202250000000088 / (3.3 / 2**10)"
   ]
  },
  {
   "cell_type": "code",
   "execution_count": 40,
   "id": "b71bf46f-df86-4c0a-89ba-4ebc22ba1418",
   "metadata": {},
   "outputs": [
    {
     "data": {
      "text/plain": [
       "0.03225806451612903"
      ]
     },
     "execution_count": 40,
     "metadata": {},
     "output_type": "execute_result"
    }
   ],
   "source": [
    "2/62"
   ]
  },
  {
   "cell_type": "code",
   "execution_count": null,
   "id": "6b6cb2dc-bcad-4b2a-8fe5-58c6a946891a",
   "metadata": {},
   "outputs": [],
   "source": []
  }
 ],
 "metadata": {
  "kernelspec": {
   "display_name": "Python 3",
   "language": "python",
   "name": "python3"
  },
  "language_info": {
   "codemirror_mode": {
    "name": "ipython",
    "version": 3
   },
   "file_extension": ".py",
   "mimetype": "text/x-python",
   "name": "python",
   "nbconvert_exporter": "python",
   "pygments_lexer": "ipython3",
   "version": "3.9.4"
  }
 },
 "nbformat": 4,
 "nbformat_minor": 5
}
